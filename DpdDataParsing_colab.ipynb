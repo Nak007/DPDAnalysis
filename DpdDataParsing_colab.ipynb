{
 "cells": [
  {
   "cell_type": "markdown",
   "id": "c6f016d2",
   "metadata": {},
   "source": [
    "## Import data"
   ]
  },
  {
   "cell_type": "code",
   "execution_count": 1,
   "id": "0f7a25f6",
   "metadata": {},
   "outputs": [],
   "source": [
    "import os, pandas as pd, numpy as np\n",
    "from DpdDataParsing import *"
   ]
  },
  {
   "cell_type": "code",
   "execution_count": 8,
   "id": "984bd661",
   "metadata": {},
   "outputs": [
    {
     "name": "stdout",
     "output_type": "stream",
     "text": [
      "Reading . . . <delinquent_application_202101_202206.csv>\n",
      "Total running time: 00:00:03\n",
      "Reading . . . <delinquent_application_202102_202206.csv>\n",
      "Total running time: 00:00:08\n",
      "Reading . . . <delinquent_application_202103_202206.csv>\n",
      "Total running time: 00:00:15\n",
      "Reading . . . <delinquent_application_202104_202206.csv>\n",
      "Total running time: 00:00:13\n",
      "Reading . . . <delinquent_application_202105_202206.csv>\n",
      "Total running time: 00:00:09\n",
      "Reading . . . <delinquent_application_202106_202206.csv>\n",
      "Total running time: 00:00:11\n",
      "Reading . . . <delinquent_application_202107_202206.csv>\n",
      "Total running time: 00:00:09\n",
      "Reading . . . <delinquent_application_202108_202206.csv>\n",
      "Total running time: 00:00:07\n",
      "Reading . . . <delinquent_application_202109_202206.csv>\n",
      "Total running time: 00:00:07\n",
      "Reading . . . <delinquent_application_202110_202206.csv>\n",
      "Total running time: 00:00:05\n",
      "Reading . . . <delinquent_application_202111_202206.csv>\n",
      "Total running time: 00:00:07\n",
      "Reading . . . <delinquent_application_202112_202206.csv>\n",
      "Total running time: 00:00:05\n",
      "Reading . . . <delinquent_application_202201_202206.csv>\n",
      "Total running time: 00:00:04\n",
      "Reading . . . <delinquent_application_202202_202206.csv>\n",
      "Total running time: 00:00:03\n",
      "Reading . . . <delinquent_application_202203_202206.csv>\n",
      "Total running time: 00:00:03\n",
      "Reading . . . <delinquent_application_202204_202206.csv>\n",
      "Total running time: 00:00:03\n",
      "Reading . . . <delinquent_application_202205_202206.csv>\n",
      "Total running time: 00:00:03\n",
      "Total running time: 00:02:33\n",
      "Complete\n"
     ]
    }
   ],
   "source": [
    "folder =\"C:\\\\Users\\\\Micky\\\\Desktop\\\\data\\\\\"\n",
    "X = pd.DataFrame()\n",
    "start_time = time.time()\n",
    "for csv in os.listdir(folder): \n",
    "    print(f\"Reading . . . <{csv}>\")\n",
    "    other = create_mob(pd.read_csv(f\"{folder}{csv}\"), \n",
    "                       dt_fmt=\"%Y-%m-%d %H:%M:%S\", digit=2) \n",
    "    X = X.append(other, ignore_index=True)\n",
    "    del other\n",
    "r_time = time.gmtime(time.time() - start_time)\n",
    "r_time = time.strftime(\"%H:%M:%S\", r_time)\n",
    "print('Total running time: {}'.format(r_time))\n",
    "print(\"Complete\")"
   ]
  },
  {
   "cell_type": "code",
   "execution_count": 9,
   "id": "2ffa5017",
   "metadata": {},
   "outputs": [
    {
     "data": {
      "text/plain": [
       "(1569413, 45)"
      ]
     },
     "execution_count": 9,
     "metadata": {},
     "output_type": "execute_result"
    }
   ],
   "source": [
    "X.shape"
   ]
  },
  {
   "cell_type": "code",
   "execution_count": 10,
   "id": "29200745",
   "metadata": {},
   "outputs": [],
   "source": [
    "dpd_cols = X.columns[X.columns.str.contains(pat=\"M.[0-9]$\")].tolist()\n",
    "X[\"clean\"] = X[dpd_cols].fillna(0).sum(1)==0"
   ]
  },
  {
   "cell_type": "code",
   "execution_count": 11,
   "id": "15d0b894",
   "metadata": {},
   "outputs": [],
   "source": [
    "X[\"cohort\"] = X[\"fnl_apl_dcsn_dt\"].astype(str).apply(lambda x:x[:7])\n",
    "X[\"util\"] = np.clip(np.fmax(X[\"M00_PNP\"], X[\"M01_PNP\"]) / X[\"fnl_cr_lmt\"], 0, 1)"
   ]
  },
  {
   "cell_type": "markdown",
   "id": "125a68fc",
   "metadata": {},
   "source": [
    "Change channel categories."
   ]
  },
  {
   "cell_type": "code",
   "execution_count": 12,
   "id": "45e2b17a",
   "metadata": {},
   "outputs": [],
   "source": [
    "cat = {\"DS\":\"Self-Apply\", \"EA\":\"E_App\", \"QR\":\"Paper\"}\n",
    "X[\"apl_grp_type\"] = X[\"apl_grp_type\"].apply(lambda x:cat[x[:2]])"
   ]
  },
  {
   "cell_type": "markdown",
   "id": "786f0c93",
   "metadata": {},
   "source": [
    "Binned FICO scores."
   ]
  },
  {
   "cell_type": "code",
   "execution_count": 13,
   "id": "cd5c6dfb",
   "metadata": {},
   "outputs": [],
   "source": [
    "X[\"fico_scor\"] = X[\"fico_scor\"].fillna(0)\n",
    "bins = np.r_[[0,1],np.arange(300,1000,50)]\n",
    "fico_categories = dict([(n+1,\"{}<=x<{}\".format(*bins[n:n+2])) \n",
    "                        for n in np.arange(len(bins)-1)])\n",
    "X[\"fico_bins\"] = np.digitize(X[\"fico_scor\"].fillna(0), bins)\n",
    "X[\"fico_bins\"] = X[\"fico_bins\"].apply(lambda x : fico_categories[x])"
   ]
  },
  {
   "cell_type": "markdown",
   "id": "0987e146",
   "metadata": {},
   "source": [
    "Binned utilizations."
   ]
  },
  {
   "cell_type": "code",
   "execution_count": 14,
   "id": "f61cc811",
   "metadata": {},
   "outputs": [],
   "source": [
    "bins =np.round(np.arange(0, 1.1, 0.1),2)\n",
    "util_categories = dict([(n+1,\"{}<=x<{}\".format(*bins[n:n+2])) \n",
    "                        for n in np.arange(len(bins)-1)])\n",
    "util_categories[len(bins)] = \"1<=x<inf\"\n",
    "util_categories[0] = \"-inf<=x<0\"\n",
    "X[\"util_bins\"] = np.digitize(X[\"util\"].fillna(0), bins)\n",
    "X[\"util_bins\"] = X[\"util_bins\"].apply(lambda x : util_categories[x])"
   ]
  },
  {
   "cell_type": "code",
   "execution_count": 15,
   "id": "25abddbe",
   "metadata": {},
   "outputs": [
    {
     "data": {
      "text/html": [
       "<div>\n",
       "<style scoped>\n",
       "    .dataframe tbody tr th:only-of-type {\n",
       "        vertical-align: middle;\n",
       "    }\n",
       "\n",
       "    .dataframe tbody tr th {\n",
       "        vertical-align: top;\n",
       "    }\n",
       "\n",
       "    .dataframe thead th {\n",
       "        text-align: right;\n",
       "    }\n",
       "</style>\n",
       "<table border=\"1\" class=\"dataframe\">\n",
       "  <thead>\n",
       "    <tr style=\"text-align: right;\">\n",
       "      <th></th>\n",
       "      <th>ip_id</th>\n",
       "      <th>pd_lvl2</th>\n",
       "      <th>cust_type</th>\n",
       "      <th>apl_grp_no</th>\n",
       "      <th>apl_grp_type</th>\n",
       "      <th>fnl_apl_dcsn_dt</th>\n",
       "      <th>fnl_cr_lmt</th>\n",
       "      <th>fico_scor</th>\n",
       "      <th>M00</th>\n",
       "      <th>M01</th>\n",
       "      <th>...</th>\n",
       "      <th>M15_OS</th>\n",
       "      <th>M16_OS</th>\n",
       "      <th>M00_PNP</th>\n",
       "      <th>M01_PNP</th>\n",
       "      <th>M02_PNP</th>\n",
       "      <th>clean</th>\n",
       "      <th>cohort</th>\n",
       "      <th>util</th>\n",
       "      <th>fico_bins</th>\n",
       "      <th>util_bins</th>\n",
       "    </tr>\n",
       "  </thead>\n",
       "  <tbody>\n",
       "    <tr>\n",
       "      <th>0</th>\n",
       "      <td>68</td>\n",
       "      <td>KPL</td>\n",
       "      <td>Salary Earner</td>\n",
       "      <td>QR-7225183</td>\n",
       "      <td>Paper</td>\n",
       "      <td>2021-01-31</td>\n",
       "      <td>11000.0</td>\n",
       "      <td>0.0</td>\n",
       "      <td>0.0</td>\n",
       "      <td>0.0</td>\n",
       "      <td>...</td>\n",
       "      <td>4500.16</td>\n",
       "      <td>3988.34</td>\n",
       "      <td>11000.0</td>\n",
       "      <td>10565.75</td>\n",
       "      <td>10168.38</td>\n",
       "      <td>True</td>\n",
       "      <td>2021-01</td>\n",
       "      <td>1.0</td>\n",
       "      <td>0&lt;=x&lt;1</td>\n",
       "      <td>1&lt;=x&lt;inf</td>\n",
       "    </tr>\n",
       "    <tr>\n",
       "      <th>1</th>\n",
       "      <td>988</td>\n",
       "      <td>CC</td>\n",
       "      <td>Salary Earner</td>\n",
       "      <td>QR-6898548</td>\n",
       "      <td>Paper</td>\n",
       "      <td>2021-01-31</td>\n",
       "      <td>99000.0</td>\n",
       "      <td>0.0</td>\n",
       "      <td>0.0</td>\n",
       "      <td>0.0</td>\n",
       "      <td>...</td>\n",
       "      <td>3030.13</td>\n",
       "      <td>590.00</td>\n",
       "      <td>-1.0</td>\n",
       "      <td>0.00</td>\n",
       "      <td>-7200.24</td>\n",
       "      <td>True</td>\n",
       "      <td>2021-01</td>\n",
       "      <td>0.0</td>\n",
       "      <td>0&lt;=x&lt;1</td>\n",
       "      <td>0.0&lt;=x&lt;0.1</td>\n",
       "    </tr>\n",
       "    <tr>\n",
       "      <th>2</th>\n",
       "      <td>2327</td>\n",
       "      <td>KPL</td>\n",
       "      <td>Salary Earner</td>\n",
       "      <td>EA-210109000079</td>\n",
       "      <td>E_App</td>\n",
       "      <td>2021-01-31</td>\n",
       "      <td>32000.0</td>\n",
       "      <td>0.0</td>\n",
       "      <td>0.0</td>\n",
       "      <td>0.0</td>\n",
       "      <td>...</td>\n",
       "      <td>NaN</td>\n",
       "      <td>NaN</td>\n",
       "      <td>32000.0</td>\n",
       "      <td>26831.98</td>\n",
       "      <td>24220.08</td>\n",
       "      <td>True</td>\n",
       "      <td>2021-01</td>\n",
       "      <td>1.0</td>\n",
       "      <td>0&lt;=x&lt;1</td>\n",
       "      <td>1&lt;=x&lt;inf</td>\n",
       "    </tr>\n",
       "    <tr>\n",
       "      <th>3</th>\n",
       "      <td>2481</td>\n",
       "      <td>KPL</td>\n",
       "      <td>Salary Earner</td>\n",
       "      <td>QR-7228901</td>\n",
       "      <td>Paper</td>\n",
       "      <td>2021-01-31</td>\n",
       "      <td>80000.0</td>\n",
       "      <td>0.0</td>\n",
       "      <td>0.0</td>\n",
       "      <td>0.0</td>\n",
       "      <td>...</td>\n",
       "      <td>66177.34</td>\n",
       "      <td>65121.47</td>\n",
       "      <td>80000.0</td>\n",
       "      <td>79029.45</td>\n",
       "      <td>78095.09</td>\n",
       "      <td>True</td>\n",
       "      <td>2021-01</td>\n",
       "      <td>1.0</td>\n",
       "      <td>0&lt;=x&lt;1</td>\n",
       "      <td>1&lt;=x&lt;inf</td>\n",
       "    </tr>\n",
       "    <tr>\n",
       "      <th>4</th>\n",
       "      <td>3098</td>\n",
       "      <td>CC</td>\n",
       "      <td>Salary Earner</td>\n",
       "      <td>QR-7242777</td>\n",
       "      <td>Paper</td>\n",
       "      <td>2021-01-31</td>\n",
       "      <td>23000.0</td>\n",
       "      <td>0.0</td>\n",
       "      <td>0.0</td>\n",
       "      <td>0.0</td>\n",
       "      <td>...</td>\n",
       "      <td>0.00</td>\n",
       "      <td>0.00</td>\n",
       "      <td>0.0</td>\n",
       "      <td>0.00</td>\n",
       "      <td>0.00</td>\n",
       "      <td>True</td>\n",
       "      <td>2021-01</td>\n",
       "      <td>0.0</td>\n",
       "      <td>0&lt;=x&lt;1</td>\n",
       "      <td>0.0&lt;=x&lt;0.1</td>\n",
       "    </tr>\n",
       "  </tbody>\n",
       "</table>\n",
       "<p>5 rows × 50 columns</p>\n",
       "</div>"
      ],
      "text/plain": [
       "   ip_id pd_lvl2      cust_type       apl_grp_no apl_grp_type fnl_apl_dcsn_dt  \\\n",
       "0     68     KPL  Salary Earner       QR-7225183        Paper      2021-01-31   \n",
       "1    988      CC  Salary Earner       QR-6898548        Paper      2021-01-31   \n",
       "2   2327     KPL  Salary Earner  EA-210109000079        E_App      2021-01-31   \n",
       "3   2481     KPL  Salary Earner       QR-7228901        Paper      2021-01-31   \n",
       "4   3098      CC  Salary Earner       QR-7242777        Paper      2021-01-31   \n",
       "\n",
       "   fnl_cr_lmt  fico_scor  M00  M01  ...    M15_OS    M16_OS  M00_PNP  \\\n",
       "0     11000.0        0.0  0.0  0.0  ...   4500.16   3988.34  11000.0   \n",
       "1     99000.0        0.0  0.0  0.0  ...   3030.13    590.00     -1.0   \n",
       "2     32000.0        0.0  0.0  0.0  ...       NaN       NaN  32000.0   \n",
       "3     80000.0        0.0  0.0  0.0  ...  66177.34  65121.47  80000.0   \n",
       "4     23000.0        0.0  0.0  0.0  ...      0.00      0.00      0.0   \n",
       "\n",
       "    M01_PNP   M02_PNP  clean   cohort  util  fico_bins   util_bins  \n",
       "0  10565.75  10168.38   True  2021-01   1.0     0<=x<1    1<=x<inf  \n",
       "1      0.00  -7200.24   True  2021-01   0.0     0<=x<1  0.0<=x<0.1  \n",
       "2  26831.98  24220.08   True  2021-01   1.0     0<=x<1    1<=x<inf  \n",
       "3  79029.45  78095.09   True  2021-01   1.0     0<=x<1    1<=x<inf  \n",
       "4      0.00      0.00   True  2021-01   0.0     0<=x<1  0.0<=x<0.1  \n",
       "\n",
       "[5 rows x 50 columns]"
      ]
     },
     "execution_count": 15,
     "metadata": {},
     "output_type": "execute_result"
    }
   ],
   "source": [
    "X.head()"
   ]
  },
  {
   "cell_type": "code",
   "execution_count": 16,
   "id": "c7a1795b",
   "metadata": {},
   "outputs": [],
   "source": [
    "X.to_csv('cohort_202101_202205.txt', sep=\"|\", index=False)"
   ]
  },
  {
   "cell_type": "code",
   "execution_count": null,
   "id": "f387d289",
   "metadata": {},
   "outputs": [],
   "source": []
  }
 ],
 "metadata": {
  "kernelspec": {
   "display_name": "Python 3 (ipykernel)",
   "language": "python",
   "name": "python3"
  },
  "language_info": {
   "codemirror_mode": {
    "name": "ipython",
    "version": 3
   },
   "file_extension": ".py",
   "mimetype": "text/x-python",
   "name": "python",
   "nbconvert_exporter": "python",
   "pygments_lexer": "ipython3",
   "version": "3.9.7"
  }
 },
 "nbformat": 4,
 "nbformat_minor": 5
}
