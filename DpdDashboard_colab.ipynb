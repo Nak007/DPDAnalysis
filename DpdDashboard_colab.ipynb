{
 "cells": [
  {
   "cell_type": "markdown",
   "id": "d0ba7601",
   "metadata": {},
   "source": [
    "## Example"
   ]
  },
  {
   "cell_type": "code",
   "execution_count": 1,
   "id": "70a61a75",
   "metadata": {},
   "outputs": [],
   "source": [
    "import pandas as pd, numpy as np, os\n",
    "from DpdDashboard import *"
   ]
  },
  {
   "cell_type": "code",
   "execution_count": 2,
   "id": "3c2e9991",
   "metadata": {},
   "outputs": [],
   "source": [
    "pd.options.display.max_columns = 100\n",
    "pd.options.display.max_rows = 100"
   ]
  },
  {
   "cell_type": "code",
   "execution_count": 3,
   "id": "bab19889",
   "metadata": {},
   "outputs": [],
   "source": [
    "X = pd.read_csv('cohort_202101_202205.txt', sep=\"|\")"
   ]
  },
  {
   "cell_type": "markdown",
   "id": "9f81ae85",
   "metadata": {},
   "source": [
    "## Averge delinquency"
   ]
  },
  {
   "cell_type": "code",
   "execution_count": 4,
   "id": "f757ba26",
   "metadata": {
    "scrolled": false
   },
   "outputs": [
    {
     "data": {
      "application/vnd.jupyter.widget-view+json": {
       "model_id": "09e66c1a86074b6c8b9daeee6b54d1d3",
       "version_major": 2,
       "version_minor": 0
      },
      "text/plain": [
       "Tab(children=(HBox(children=(VBox(children=(VBox(children=(Label(value='Starting and ending cohorts'), Selecti…"
      ]
     },
     "metadata": {},
     "output_type": "display_data"
    },
    {
     "data": {
      "application/vnd.jupyter.widget-view+json": {
       "model_id": "0294ae0034424fdf81a65a2d0b3d41c1",
       "version_major": 2,
       "version_minor": 0
      },
      "text/plain": [
       "Output()"
      ]
     },
     "metadata": {},
     "output_type": "display_data"
    }
   ],
   "source": [
    "dashboard_avgdpd(X)"
   ]
  },
  {
   "cell_type": "markdown",
   "id": "9e602671",
   "metadata": {},
   "source": [
    "## Vintage analysis"
   ]
  },
  {
   "cell_type": "code",
   "execution_count": 5,
   "id": "3f3202eb",
   "metadata": {
    "scrolled": false
   },
   "outputs": [
    {
     "data": {
      "application/vnd.jupyter.widget-view+json": {
       "model_id": "9d2e241205f846bdbe7a3a5d8dd3b942",
       "version_major": 2,
       "version_minor": 0
      },
      "text/plain": [
       "Tab(children=(HBox(children=(VBox(children=(VBox(children=(Label(value='Starting and ending cohorts'), Selecti…"
      ]
     },
     "metadata": {},
     "output_type": "display_data"
    },
    {
     "data": {
      "application/vnd.jupyter.widget-view+json": {
       "model_id": "3b9af574024445ef8fb7b34d0b293884",
       "version_major": 2,
       "version_minor": 0
      },
      "text/plain": [
       "Output()"
      ]
     },
     "metadata": {},
     "output_type": "display_data"
    }
   ],
   "source": [
    "dashboard_vintage(X)"
   ]
  },
  {
   "cell_type": "markdown",
   "id": "6e913056",
   "metadata": {},
   "source": [
    "## Pivot Table"
   ]
  },
  {
   "cell_type": "code",
   "execution_count": 8,
   "id": "83e88871",
   "metadata": {},
   "outputs": [
    {
     "data": {
      "application/vnd.jupyter.widget-view+json": {
       "model_id": "c82f2502b11e44af820f19a63d6e796e",
       "version_major": 2,
       "version_minor": 0
      },
      "text/plain": [
       "Tab(children=(HBox(children=(VBox(children=(VBox(children=(Label(value='Starting and ending cohorts'), Selecti…"
      ]
     },
     "metadata": {},
     "output_type": "display_data"
    },
    {
     "data": {
      "application/vnd.jupyter.widget-view+json": {
       "model_id": "ca97d46b8acf489380a2fedf14126710",
       "version_major": 2,
       "version_minor": 0
      },
      "text/plain": [
       "Output()"
      ]
     },
     "metadata": {},
     "output_type": "display_data"
    }
   ],
   "source": [
    "dashboard_pivottable(X)"
   ]
  },
  {
   "cell_type": "markdown",
   "id": "ad0aaa62",
   "metadata": {},
   "source": [
    "## Roll rate analysis"
   ]
  },
  {
   "cell_type": "code",
   "execution_count": 6,
   "id": "f33ea0d0",
   "metadata": {},
   "outputs": [
    {
     "data": {
      "application/vnd.jupyter.widget-view+json": {
       "model_id": "e1e7d8a433f74dd8be9f25ed1cd5202a",
       "version_major": 2,
       "version_minor": 0
      },
      "text/plain": [
       "Tab(children=(HBox(children=(VBox(children=(VBox(children=(Label(value='Which cohort'), SelectionSlider(option…"
      ]
     },
     "metadata": {},
     "output_type": "display_data"
    },
    {
     "data": {
      "application/vnd.jupyter.widget-view+json": {
       "model_id": "9098d5dfd50641f08e937bd81214d0f6",
       "version_major": 2,
       "version_minor": 0
      },
      "text/plain": [
       "Output()"
      ]
     },
     "metadata": {},
     "output_type": "display_data"
    }
   ],
   "source": [
    "dashboard_rollrate(X)"
   ]
  },
  {
   "cell_type": "markdown",
   "id": "f45e797f",
   "metadata": {},
   "source": [
    "## DPD Bins"
   ]
  },
  {
   "cell_type": "code",
   "execution_count": 7,
   "id": "9ae7ebbf",
   "metadata": {},
   "outputs": [
    {
     "data": {
      "application/vnd.jupyter.widget-view+json": {
       "model_id": "a48350f64ab948438369fba62d0d8e43",
       "version_major": 2,
       "version_minor": 0
      },
      "text/plain": [
       "Tab(children=(HBox(children=(VBox(children=(VBox(children=(Label(value='Starting and ending cohorts'), Selecti…"
      ]
     },
     "metadata": {},
     "output_type": "display_data"
    },
    {
     "data": {
      "application/vnd.jupyter.widget-view+json": {
       "model_id": "09b1665b2fe64b03a3c96e74dd23adef",
       "version_major": 2,
       "version_minor": 0
      },
      "text/plain": [
       "Output()"
      ]
     },
     "metadata": {},
     "output_type": "display_data"
    }
   ],
   "source": [
    "dashboard_dpdbins(X)"
   ]
  },
  {
   "cell_type": "code",
   "execution_count": null,
   "id": "92b6ce24",
   "metadata": {},
   "outputs": [],
   "source": []
  },
  {
   "cell_type": "code",
   "execution_count": null,
   "id": "5e881f9b",
   "metadata": {},
   "outputs": [],
   "source": []
  }
 ],
 "metadata": {
  "kernelspec": {
   "display_name": "Python 3 (ipykernel)",
   "language": "python",
   "name": "python3"
  },
  "language_info": {
   "codemirror_mode": {
    "name": "ipython",
    "version": 3
   },
   "file_extension": ".py",
   "mimetype": "text/x-python",
   "name": "python",
   "nbconvert_exporter": "python",
   "pygments_lexer": "ipython3",
   "version": "3.9.7"
  }
 },
 "nbformat": 4,
 "nbformat_minor": 5
}
