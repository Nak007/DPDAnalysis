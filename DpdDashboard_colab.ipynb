{
 "cells": [
  {
   "cell_type": "markdown",
   "id": "d0ba7601",
   "metadata": {},
   "source": [
    "## Example"
   ]
  },
  {
   "cell_type": "code",
   "execution_count": null,
   "id": "70a61a75",
   "metadata": {},
   "outputs": [],
   "source": [
    "import pandas as pd, numpy as np, os\n",
    "from DpdDashboard import *"
   ]
  },
  {
   "cell_type": "code",
   "execution_count": null,
   "id": "3c2e9991",
   "metadata": {},
   "outputs": [],
   "source": [
    "pd.options.display.max_columns = 100\n",
    "pd.options.display.max_rows = 100"
   ]
  },
  {
   "cell_type": "code",
   "execution_count": null,
   "id": "bab19889",
   "metadata": {},
   "outputs": [],
   "source": [
    "X = pd.read_csv('cohort_202101_202205.txt', sep=\"|\")"
   ]
  },
  {
   "cell_type": "markdown",
   "id": "9f81ae85",
   "metadata": {},
   "source": [
    "## Averge delinquency"
   ]
  },
  {
   "cell_type": "code",
   "execution_count": null,
   "id": "f757ba26",
   "metadata": {
    "scrolled": false
   },
   "outputs": [],
   "source": [
    "dashboard_avgdpd(X)"
   ]
  },
  {
   "cell_type": "markdown",
   "id": "9e602671",
   "metadata": {},
   "source": [
    "## Vintage analysis"
   ]
  },
  {
   "cell_type": "code",
   "execution_count": null,
   "id": "3f3202eb",
   "metadata": {
    "scrolled": false
   },
   "outputs": [],
   "source": [
    "dashboard_vintage(X)"
   ]
  },
  {
   "cell_type": "markdown",
   "id": "6e913056",
   "metadata": {},
   "source": [
    "## Pivot Table"
   ]
  },
  {
   "cell_type": "code",
   "execution_count": null,
   "id": "83e88871",
   "metadata": {},
   "outputs": [],
   "source": [
    "dashboard_pivottable(X)"
   ]
  },
  {
   "cell_type": "markdown",
   "id": "ad0aaa62",
   "metadata": {},
   "source": [
    "## Roll rate analysis"
   ]
  },
  {
   "cell_type": "code",
   "execution_count": null,
   "id": "f33ea0d0",
   "metadata": {},
   "outputs": [],
   "source": [
    "dashboard_rollrate(X)"
   ]
  },
  {
   "cell_type": "markdown",
   "id": "f45e797f",
   "metadata": {},
   "source": [
    "## DPD Bins"
   ]
  },
  {
   "cell_type": "code",
   "execution_count": null,
   "id": "9ae7ebbf",
   "metadata": {},
   "outputs": [],
   "source": [
    "dashboard_dpdbins(X)"
   ]
  },
  {
   "cell_type": "markdown",
   "id": "100a0255",
   "metadata": {},
   "source": [
    "## Export Data"
   ]
  },
  {
   "cell_type": "code",
   "execution_count": null,
   "id": "5e881f9b",
   "metadata": {},
   "outputs": [],
   "source": [
    "export_data(X)"
   ]
  }
 ],
 "metadata": {
  "kernelspec": {
   "display_name": "Python 3 (ipykernel)",
   "language": "python",
   "name": "python3"
  },
  "language_info": {
   "codemirror_mode": {
    "name": "ipython",
    "version": 3
   },
   "file_extension": ".py",
   "mimetype": "text/x-python",
   "name": "python",
   "nbconvert_exporter": "python",
   "pygments_lexer": "ipython3",
   "version": "3.9.7"
  }
 },
 "nbformat": 4,
 "nbformat_minor": 5
}
