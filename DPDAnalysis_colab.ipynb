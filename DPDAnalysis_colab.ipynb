{
 "cells": [
  {
   "cell_type": "markdown",
   "id": "d0ba7601",
   "metadata": {},
   "source": [
    "## Example"
   ]
  },
  {
   "cell_type": "code",
   "execution_count": null,
   "id": "fbd1096f",
   "metadata": {},
   "outputs": [],
   "source": [
    "X = create_mob(pd.read_csv('input_delinquent_application_202111.csv'))"
   ]
  },
  {
   "cell_type": "code",
   "execution_count": null,
   "id": "cf6c51be",
   "metadata": {},
   "outputs": [],
   "source": [
    "Fraud = pd.read_csv('delinquent_application_flag.csv')[[\"apl_no\",\"flag_fraud\"]]\\\n",
    ".rename(columns={\"apl_no\":\"apl_grp_no\",\"flag_fraud\":\"flag\"})"
   ]
  },
  {
   "cell_type": "code",
   "execution_count": null,
   "id": "55073352",
   "metadata": {},
   "outputs": [],
   "source": [
    "X = X.merge(Fraud, how='left', on=\"apl_grp_no\").fillna(0)\n",
    "del Fraud"
   ]
  },
  {
   "cell_type": "code",
   "execution_count": null,
   "id": "2f7ad05b",
   "metadata": {},
   "outputs": [],
   "source": [
    "dpd_cols = [\"M0\",\"M1\",\"M2\",\"M3\",\"M4\",\"M5\"]\n",
    "osb_cols = [\"M0_OS\",\"M1_OS\",\"M2_OS\",\"M3_OS\",\"M4_OS\",\"M5_OS\"]\n",
    "colors   = [\"#1B9CFC\",\"#CAD3C8\",\"#F97F51\",\"#FC427B\"]"
   ]
  },
  {
   "cell_type": "code",
   "execution_count": null,
   "id": "b051c6dc",
   "metadata": {},
   "outputs": [],
   "source": [
    "X[\"clean\"] = X[dpd_cols].sum(1)==0\n",
    "X[\"flag\"]  = np.where(X[\"flag\"]==1,\"Fraud\", \"Normal\")\n",
    "cat = {\"DS\":\"Self-Apply\", \"EA\":\"E_App\", \"QR\":\"Paper\"}\n",
    "X[\"apl_grp_type\"] = X[\"apl_grp_type\"].apply(lambda x:cat[x[:2]])\n",
    "X[\"M0_pWDL\"] = X[\"M0_PNP\"] / X[\"fnl_cr_lmt\"]\n",
    "X[\"M1_pWDL\"] = X[\"M1_PNP\"] / X[\"fnl_cr_lmt\"]"
   ]
  },
  {
   "cell_type": "code",
   "execution_count": null,
   "id": "59d39f87",
   "metadata": {},
   "outputs": [],
   "source": [
    "X.head()"
   ]
  },
  {
   "cell_type": "markdown",
   "id": "9f81ae85",
   "metadata": {},
   "source": [
    "## Averge delinquency"
   ]
  },
  {
   "cell_type": "code",
   "execution_count": null,
   "id": "beb1d390",
   "metadata": {},
   "outputs": [],
   "source": [
    "# \"flag\" \"cust_type\",\"apl_grp_type\", \"pd_lvl2\"\n",
    "groupby = [\"pd_lvl2\", \"cust_type\"] \n",
    "ax = plot_avgdpd(X.loc[X[\"clean\"]==False], groupby, dpd_cols, \n",
    "                 start_mth=0, colors=colors, focus=\"M3\", n_tops=3, \n",
    "                 ax=plt.subplots(figsize=(9.5,4.5))[1])"
   ]
  },
  {
   "cell_type": "code",
   "execution_count": null,
   "id": "f6e0729a",
   "metadata": {},
   "outputs": [],
   "source": [
    "groupby_table(X.loc[X[\"clean\"]==False], groupby, dpd_cols)"
   ]
  },
  {
   "cell_type": "code",
   "execution_count": null,
   "id": "8a4cb193",
   "metadata": {},
   "outputs": [],
   "source": [
    "groupby_table(X.loc[X[\"clean\"]==False], groupby, osb_cols, \n",
    "              np.nansum, factor=1/10**6)"
   ]
  },
  {
   "cell_type": "markdown",
   "id": "9e602671",
   "metadata": {},
   "source": [
    "## Vintage analysis"
   ]
  },
  {
   "cell_type": "code",
   "execution_count": null,
   "id": "e9fc56fe",
   "metadata": {},
   "outputs": [],
   "source": [
    "# \"flag\" \"cust_type\",\"apl_grp_type\", \"pd_lvl2\"\n",
    "groupby = [\"apl_grp_type\", \"cust_type\"] \n",
    "for dpd_geq,focus in zip([30, 60, 90],[\"M2\",\"M3\",\"M4\"]):\n",
    "    ax = plt.subplots(figsize=(9.5,4.3))[1]\n",
    "    ax = plot_vintage(X.loc[(X[\"clean\"]==False)], groupby, dpd_cols, \n",
    "                      dpd_geq, ax=ax, colors=colors, focus=focus, n_tops=3)"
   ]
  },
  {
   "cell_type": "code",
   "execution_count": null,
   "id": "c9db2e89",
   "metadata": {},
   "outputs": [],
   "source": [
    "vintage_table(X.loc[X[\"clean\"]==False], groupby, dpd_cols)"
   ]
  },
  {
   "cell_type": "markdown",
   "id": "ad0aaa62",
   "metadata": {},
   "source": [
    "## Roll rate analysis"
   ]
  },
  {
   "cell_type": "code",
   "execution_count": null,
   "id": "9b641d83",
   "metadata": {},
   "outputs": [],
   "source": [
    "mobs, cond = [\"M3\",\"M4\"], (X[\"clean\"]==False) \n",
    "ax = plot_rollrate(X.loc[cond].copy(), mobs)"
   ]
  },
  {
   "cell_type": "code",
   "execution_count": null,
   "id": "8894d4d9",
   "metadata": {},
   "outputs": [],
   "source": [
    "fig, axes = plt.subplots(1,2,figsize=(8.3*2,6.5))\n",
    "fig.subplots_adjust(hspace=0.3)\n",
    "mobs, cond = [\"M3\",\"M4\"], (X[\"clean\"]==False)\n",
    "labels = np.r_[[\"{} Months on book\".format(s[1:]) for s in mobs]][::-1]\n",
    "axes[0] = plot_rollrate(X.loc[cond].copy(), mobs, ax=axes[0], labels=labels)\n",
    "axes[1] = plot_rollrate(X.loc[cond].copy(), mobs, ax=axes[1], labels=labels,\n",
    "                        values=X[\"M4_OS\"]/10**6, num_format=\"{:,.1f}M\".format)\n",
    "axes[0].set_title(\"Number of applications\\n\", fontsize=25)\n",
    "axes[1].set_title(\"O/S amount (million)\\n\", fontsize=25)\n",
    "plt.tight_layout()"
   ]
  },
  {
   "cell_type": "markdown",
   "id": "a7428d82",
   "metadata": {},
   "source": [
    "## % Withdrawal @ M0, and M1\n",
    "add 90% flag"
   ]
  },
  {
   "cell_type": "code",
   "execution_count": null,
   "id": "45c48fad",
   "metadata": {},
   "outputs": [],
   "source": [
    "# \"flag\",\"pd_lvl2\", \"cust_type\", \"apl_grp_type\"]\n",
    "groupby= [\"flag\",\"pd_lvl2\", \"cust_type\"]\n",
    "aggfnc = {\"ip_id\" : \"count\", \"M0_pWDL\": \"mean\", \"M1_pWDL\": \"mean\"}\n",
    "rename = {\"ip_id\":\"N\", \"M0_pWDL\": \"M0\", \"M1_pWDL\": \"M1\"}\n",
    "X.loc[X[\"clean\"]==False].groupby(groupby).agg(aggfnc).rename(columns=rename)"
   ]
  },
  {
   "cell_type": "code",
   "execution_count": null,
   "id": "2e8111f0",
   "metadata": {},
   "outputs": [],
   "source": []
  }
 ],
 "metadata": {
  "kernelspec": {
   "display_name": "Python 3 (ipykernel)",
   "language": "python",
   "name": "python3"
  },
  "language_info": {
   "codemirror_mode": {
    "name": "ipython",
    "version": 3
   },
   "file_extension": ".py",
   "mimetype": "text/x-python",
   "name": "python",
   "nbconvert_exporter": "python",
   "pygments_lexer": "ipython3",
   "version": "3.9.7"
  }
 },
 "nbformat": 4,
 "nbformat_minor": 5
}
